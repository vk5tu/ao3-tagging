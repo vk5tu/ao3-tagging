{
 "cells": [
  {
   "cell_type": "markdown",
   "id": "3b8c5396",
   "metadata": {},
   "source": [
    "# base\n",
    "\n",
    "To start a new notebook, load this notebook then `File` | `Save as...` with the new notebook filename. "
   ]
  },
  {
   "cell_type": "code",
   "execution_count": null,
   "id": "1ab96344",
   "metadata": {},
   "outputs": [],
   "source": [
    "import pandas as pd\n",
    "import numpy as np\n",
    "import seaborn as sns\n",
    "import matplotlib as plt\n",
    "\n",
    "import ds9\n",
    "\n",
    "df = ds9.df()"
   ]
  },
  {
   "cell_type": "markdown",
   "id": "6037dc7e",
   "metadata": {},
   "source": [
    "The Pandas dataframe `df` now contains the DS9 database.\n",
    "\n",
    "You can display that dataframe with\n",
    "```\n",
    "df\n",
    "```\n",
    "\n",
    "and save the dataframe with\n",
    "\n",
    "```\n",
    "df.to_csv('filename.csv')\n",
    "```\n",
    "\n",
    "If you have the DS9 database in a different CSV file then load that with:\n",
    "\n",
    "```\n",
    "df = ds9.df(csv='20220101.csv')\n",
    "```\n",
    "\n",
    "The data is automatically narrowed to works from 2010, in English and completed.  If you want all works then:\n",
    "\n",
    "```\n",
    "df = ds9.df(narrowing=False)\n",
    "```\n",
    "\n",
    "Press the `+` button to create a new cell and begin..."
   ]
  }
 ],
 "metadata": {
  "kernelspec": {
   "display_name": "Python 3",
   "language": "python",
   "name": "python3"
  },
  "language_info": {
   "codemirror_mode": {
    "name": "ipython",
    "version": 3
   },
   "file_extension": ".py",
   "mimetype": "text/x-python",
   "name": "python",
   "nbconvert_exporter": "python",
   "pygments_lexer": "ipython3",
   "version": "3.10.6"
  }
 },
 "nbformat": 4,
 "nbformat_minor": 5
}
